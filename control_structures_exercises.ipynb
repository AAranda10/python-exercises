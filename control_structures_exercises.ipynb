{
 "cells": [
  {
   "cell_type": "code",
   "execution_count": 67,
   "metadata": {},
   "outputs": [
    {
     "name": "stdout",
     "output_type": "stream",
     "text": [
      "Another day closer to Saturday!\n"
     ]
    }
   ],
   "source": [
    "## 1 - 1\n",
    "from datetime import date\n",
    "import calendar\n",
    "todays_date = date.today()\n",
    "calendar.day_name[todays_date.weekday()]\n",
    "if todays_date == 'Monday':\n",
    "    print(\"Today is Monday!\")\n",
    "else:\n",
    "    print(\"Another day closer to Saturday!\")\n",
    "        "
   ]
  },
  {
   "cell_type": "code",
   "execution_count": 68,
   "metadata": {},
   "outputs": [
    {
     "name": "stdout",
     "output_type": "stream",
     "text": [
      "It's a weekday -___-\n"
     ]
    }
   ],
   "source": [
    "## 1 - 2\n",
    "from datetime import date\n",
    "import calendar\n",
    "todays_date = date.today()\n",
    "calendar.day_name[todays_date.weekday()]\n",
    "if todays_date == 'Monday' or \"Tuesday\" or \"Wednesday\" or \"Thursday\" or \"Friday\":\n",
    "    print(\"It's a weekday -___-\")\n",
    "else:\n",
    "    print(\"Yay! It's the weekend!\")"
   ]
  },
  {
   "cell_type": "code",
   "execution_count": 106,
   "metadata": {},
   "outputs": [
    {
     "name": "stdout",
     "output_type": "stream",
     "text": [
      "My final check this week is 1875.0\n"
     ]
    }
   ],
   "source": [
    "## 1 - 3\n",
    "hours_worked = 50\n",
    "pay_rate = 25.0\n",
    "ot_rate = 25.0 * 1.5\n",
    "normal_check = (hours_worked * pay_rate)\n",
    "ot_check = (hours_worked * ot_rate)\n",
    "if hours_worked <= 40:\n",
    "    print(\"My final check this week is\", normal_check)\n",
    "elif hours_worked > 40:\n",
    "    print(\"My final check this week is\", ot_check)"
   ]
  },
  {
   "cell_type": "code",
   "execution_count": null,
   "metadata": {},
   "outputs": [],
   "source": []
  },
  {
   "cell_type": "code",
   "execution_count": null,
   "metadata": {},
   "outputs": [],
   "source": []
  }
 ],
 "metadata": {
  "kernelspec": {
   "display_name": "Python 3",
   "language": "python",
   "name": "python3"
  },
  "language_info": {
   "codemirror_mode": {
    "name": "ipython",
    "version": 3
   },
   "file_extension": ".py",
   "mimetype": "text/x-python",
   "name": "python",
   "nbconvert_exporter": "python",
   "pygments_lexer": "ipython3",
   "version": "3.8.5"
  }
 },
 "nbformat": 4,
 "nbformat_minor": 4
}
