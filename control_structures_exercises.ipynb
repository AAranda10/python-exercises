{
 "cells": [
  {
   "cell_type": "code",
   "execution_count": null,
   "metadata": {},
   "outputs": [],
   "source": [
    "## 1 - 1\n",
    "from datetime import date\n",
    "import calendar\n",
    "todays_date = date.today()\n",
    "calendar.day_name[todays_date.weekday()]\n",
    "if todays_date == 'Monday':\n",
    "    print(\"Today is Monday!\")\n",
    "else:\n",
    "    print(\"Another day closer to Saturday!\")\n",
    "        "
   ]
  },
  {
   "cell_type": "code",
   "execution_count": null,
   "metadata": {},
   "outputs": [],
   "source": [
    "## 1 - 2\n",
    "from datetime import date\n",
    "import calendar\n",
    "todays_date = date.today()\n",
    "calendar.day_name[todays_date.weekday()]\n",
    "if todays_date == 'Monday' or \"Tuesday\" or \"Wednesday\" or \"Thursday\" or \"Friday\":\n",
    "    print(\"It's a weekday -___-\")\n",
    "else:\n",
    "    print(\"Yay! It's the weekend!\")"
   ]
  },
  {
   "cell_type": "code",
   "execution_count": null,
   "metadata": {},
   "outputs": [],
   "source": [
    "## 1 - 3\n",
    "hours_worked = 50\n",
    "pay_rate = 25.0\n",
    "ot_rate = 25.0 * 1.5\n",
    "normal_check = (hours_worked * pay_rate)\n",
    "ot_check = (hours_worked * ot_rate)\n",
    "if hours_worked <= 40:\n",
    "    print(\"My final check this week is\", normal_check)\n",
    "elif hours_worked > 40:\n",
    "    print(\"My final check this week is\", ot_check)"
   ]
  },
  {
   "cell_type": "code",
   "execution_count": null,
   "metadata": {},
   "outputs": [],
   "source": [
    "## 2 - 1\n",
    "i = 5\n",
    "while i <= 15:\n",
    "    print(i)\n",
    "    i += 1"
   ]
  },
  {
   "cell_type": "code",
   "execution_count": null,
   "metadata": {},
   "outputs": [],
   "source": [
    "## 2 - 2\n",
    "count_by_two = 0\n",
    "while count_by_two <= 100:\n",
    "    print(count_by_two)\n",
    "    count_by_two += 2"
   ]
  },
  {
   "cell_type": "code",
   "execution_count": null,
   "metadata": {},
   "outputs": [],
   "source": [
    "## 2 - 3\n",
    "back_by_five = 100\n",
    "while back_by_five >= -10:\n",
    "    print(back_by_five)\n",
    "    back_by_five -= 5"
   ]
  },
  {
   "cell_type": "code",
   "execution_count": null,
   "metadata": {},
   "outputs": [],
   "source": [
    "## 2 - 4\n",
    "square_it = 2\n",
    "while square_it <= 1000000:\n",
    "    print(square_it)\n",
    "    square_it *= 2"
   ]
  },
  {
   "cell_type": "code",
   "execution_count": null,
   "metadata": {},
   "outputs": [],
   "source": [
    "## 2 - 5\n",
    "minus_five = 100\n",
    "while minus_five >= 5:\n",
    "    print(minus_five)\n",
    "    minus_five -= 5"
   ]
  },
  {
   "cell_type": "code",
   "execution_count": null,
   "metadata": {},
   "outputs": [],
   "source": [
    "## 2 - 6\n",
    "num = 7\n",
    "for i in range(1, 11):\n",
    "   print(num, 'x', i, '=', num*i)"
   ]
  },
  {
   "cell_type": "code",
   "execution_count": null,
   "metadata": {},
   "outputs": [],
   "source": [
    "## 2 - 7\n",
    "for i in range(10):\n",
    "    print(str(i) * i)"
   ]
  },
  {
   "cell_type": "code",
   "execution_count": null,
   "metadata": {},
   "outputs": [],
   "source": [
    "## 2 - 8\n",
    "skip = int(input(\"Number to skip is: \"))\n",
    "for i in range(50):\n",
    "    if i % 2 != 0:\n",
    "        print(\"Here is an odd number:\")\n",
    "        if i == skip:\n",
    "            print(\"Yikes! Skipping number:\", skip)\n",
    "            continue\n",
    "        print(i)"
   ]
  },
  {
   "cell_type": "code",
   "execution_count": null,
   "metadata": {},
   "outputs": [],
   "source": [
    "## 2 - 9\n",
    "to_this_number = int(input(\"Pick a number: \"))\n",
    "for i in range(1000000):\n",
    "    if i == to_this_number:\n",
    "        print(\"Your number is\", to_this_number)\n",
    "        break\n",
    "    print(i)\n"
   ]
  },
  {
   "cell_type": "code",
   "execution_count": null,
   "metadata": {},
   "outputs": [],
   "source": [
    "## 2 - 10\n",
    "countdown = int(input(\"Countdown in...\"))\n",
    "while countdown >= 1:\n",
    "    print(countdown)\n",
    "    countdown -= 1\n",
    "print(\"Blast Off!!!\")"
   ]
  },
  {
   "cell_type": "code",
   "execution_count": null,
   "metadata": {},
   "outputs": [],
   "source": [
    "## 3\n",
    "for fizzbuzz in range(101):\n",
    "    if fizzbuzz % 3 == 0 and fizzbuzz % 5 == 0:\n",
    "        print(\"fizzbuzz\")\n",
    "        continue\n",
    "    elif fizzbuzz % 3 == 0:\n",
    "        print(\"fizz\")\n",
    "        continue\n",
    "    elif fizzbuzz % 5 == 0:\n",
    "        print(\"buzz\")\n",
    "        continue\n",
    "    print(fizzbuzz)"
   ]
  },
  {
   "cell_type": "code",
   "execution_count": null,
   "metadata": {},
   "outputs": [],
   "source": [
    "numbers = []\n",
    "squares = []\n",
    "cubes = []\n",
    "\n",
    "start = 1 \n",
    "end = int(input(\"What number would you like to go up to? \"))\n",
    "to_continue = input(\"Are you sure? \")\n",
    "while to_continue == \"yes\" or \"y\":\n",
    "    break\n",
    "    \n",
    "    print(\"Here is your table!\")\n",
    "\n",
    "for count in range (start, end+1) :\n",
    "    numbers.append (count)\n",
    "    squares.append (count**2)\n",
    "    cubes.append (count**3)\n",
    "    \n",
    "print(\"numbers: \",numbers)\n",
    "print (\"squares: \",squares)\n",
    "print (\"cubes  : \",cubes)"
   ]
  },
  {
   "cell_type": "code",
   "execution_count": null,
   "metadata": {},
   "outputs": [],
   "source": [
    "grade = int(input(\"What is your grade? \"))\n",
    "verify = input(\"Do you want to continue? \")\n",
    "def lettergrade(grade):\n",
    "    if grade >=90:\n",
    "        return('A')\n",
    "    elif grade >=80 and grade <=89:\n",
    "        return('B')\n",
    "    elif grade >=70 and grade <=79:\n",
    "        return('C')\n",
    "    elif grade >=60 and grade <=69:\n",
    "        return('D')\n",
    "    else:\n",
    "        return('F')\n",
    "print(lettergrade(grade))"
   ]
  },
  {
   "cell_type": "code",
   "execution_count": null,
   "metadata": {},
   "outputs": [],
   "source": [
    "books = {'title': ['Percy Jackson & the Olympians: The Lightning Thief', 'The Outsiders', 'Rumble Fish', 'Harry Potter and The Sorcer\\'s Stone', 'Star Wars\\: The Old Republic - Revan'] , \n",
    "                  'author': ['Rick Riordan', 'S.E. Hinton', 'S.E. Hinton', 'J.K. Rowling', 'Drew Karpyshyn '], \n",
    "                  'genre': ['Fantasy','Fiction','Fiction', 'Fantasy', 'Sci-Fi']}\n",
    "\n",
    "### I really struggled with this problem and could not figure it out no matter what ways I tried. "
   ]
  },
  {
   "cell_type": "code",
   "execution_count": null,
   "metadata": {},
   "outputs": [],
   "source": []
  }
 ],
 "metadata": {
  "kernelspec": {
   "display_name": "Python 3",
   "language": "python",
   "name": "python3"
  },
  "language_info": {
   "codemirror_mode": {
    "name": "ipython",
    "version": 3
   },
   "file_extension": ".py",
   "mimetype": "text/x-python",
   "name": "python",
   "nbconvert_exporter": "python",
   "pygments_lexer": "ipython3",
   "version": "3.8.5"
  }
 },
 "nbformat": 4,
 "nbformat_minor": 4
}
