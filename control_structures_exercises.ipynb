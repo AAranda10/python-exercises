{
 "cells": [
  {
   "cell_type": "code",
   "execution_count": 1,
   "metadata": {},
   "outputs": [
    {
     "name": "stdout",
     "output_type": "stream",
     "text": [
      "Another day closer to Saturday!\n"
     ]
    }
   ],
   "source": [
    "## 1 - 1\n",
    "from datetime import date\n",
    "import calendar\n",
    "todays_date = date.today()\n",
    "calendar.day_name[todays_date.weekday()]\n",
    "if todays_date == 'Monday':\n",
    "    print(\"Today is Monday!\")\n",
    "else:\n",
    "    print(\"Another day closer to Saturday!\")\n",
    "        "
   ]
  },
  {
   "cell_type": "code",
   "execution_count": 2,
   "metadata": {},
   "outputs": [
    {
     "name": "stdout",
     "output_type": "stream",
     "text": [
      "It's a weekday -___-\n"
     ]
    }
   ],
   "source": [
    "## 1 - 2\n",
    "from datetime import date\n",
    "import calendar\n",
    "todays_date = date.today()\n",
    "calendar.day_name[todays_date.weekday()]\n",
    "if todays_date == 'Monday' or \"Tuesday\" or \"Wednesday\" or \"Thursday\" or \"Friday\":\n",
    "    print(\"It's a weekday -___-\")\n",
    "else:\n",
    "    print(\"Yay! It's the weekend!\")"
   ]
  },
  {
   "cell_type": "code",
   "execution_count": 21,
   "metadata": {},
   "outputs": [
    {
     "name": "stdout",
     "output_type": "stream",
     "text": [
      "My final check this week is 1625.0\n"
     ]
    }
   ],
   "source": [
    "## 1 - 3\n",
    "hours_worked = 50\n",
    "pay_rate = 25.0\n",
    "ot_rate = 25.0 * 1.5\n",
    "normal_check = (hours_worked * pay_rate)\n",
    "ot_check = ((hours_worked - 40) * ot_rate) + normal_check\n",
    "if hours_worked <= 40:\n",
    "    print(\"My final check this week is\", normal_check)\n",
    "elif hours_worked > 40:\n",
    "    print(\"My final check this week is\", ot_check)"
   ]
  },
  {
   "cell_type": "code",
   "execution_count": 4,
   "metadata": {},
   "outputs": [
    {
     "name": "stdout",
     "output_type": "stream",
     "text": [
      "5\n",
      "6\n",
      "7\n",
      "8\n",
      "9\n",
      "10\n",
      "11\n",
      "12\n",
      "13\n",
      "14\n",
      "15\n"
     ]
    }
   ],
   "source": [
    "## 2 - 1\n",
    "i = 5\n",
    "while i <= 15:\n",
    "    print(i)\n",
    "    i += 1"
   ]
  },
  {
   "cell_type": "code",
   "execution_count": 5,
   "metadata": {},
   "outputs": [
    {
     "name": "stdout",
     "output_type": "stream",
     "text": [
      "0\n",
      "2\n",
      "4\n",
      "6\n",
      "8\n",
      "10\n",
      "12\n",
      "14\n",
      "16\n",
      "18\n",
      "20\n",
      "22\n",
      "24\n",
      "26\n",
      "28\n",
      "30\n",
      "32\n",
      "34\n",
      "36\n",
      "38\n",
      "40\n",
      "42\n",
      "44\n",
      "46\n",
      "48\n",
      "50\n",
      "52\n",
      "54\n",
      "56\n",
      "58\n",
      "60\n",
      "62\n",
      "64\n",
      "66\n",
      "68\n",
      "70\n",
      "72\n",
      "74\n",
      "76\n",
      "78\n",
      "80\n",
      "82\n",
      "84\n",
      "86\n",
      "88\n",
      "90\n",
      "92\n",
      "94\n",
      "96\n",
      "98\n",
      "100\n"
     ]
    }
   ],
   "source": [
    "## 2 - 2\n",
    "count_by_two = 0\n",
    "while count_by_two <= 100:\n",
    "    print(count_by_two)\n",
    "    count_by_two += 2"
   ]
  },
  {
   "cell_type": "code",
   "execution_count": 6,
   "metadata": {},
   "outputs": [
    {
     "name": "stdout",
     "output_type": "stream",
     "text": [
      "100\n",
      "95\n",
      "90\n",
      "85\n",
      "80\n",
      "75\n",
      "70\n",
      "65\n",
      "60\n",
      "55\n",
      "50\n",
      "45\n",
      "40\n",
      "35\n",
      "30\n",
      "25\n",
      "20\n",
      "15\n",
      "10\n",
      "5\n",
      "0\n",
      "-5\n",
      "-10\n"
     ]
    }
   ],
   "source": [
    "## 2 - 3\n",
    "back_by_five = 100\n",
    "while back_by_five >= -10:\n",
    "    print(back_by_five)\n",
    "    back_by_five -= 5"
   ]
  },
  {
   "cell_type": "code",
   "execution_count": 7,
   "metadata": {},
   "outputs": [
    {
     "name": "stdout",
     "output_type": "stream",
     "text": [
      "2\n",
      "4\n",
      "8\n",
      "16\n",
      "32\n",
      "64\n",
      "128\n",
      "256\n",
      "512\n",
      "1024\n",
      "2048\n",
      "4096\n",
      "8192\n",
      "16384\n",
      "32768\n",
      "65536\n",
      "131072\n",
      "262144\n",
      "524288\n"
     ]
    }
   ],
   "source": [
    "## 2 - 4\n",
    "square_it = 2\n",
    "while square_it <= 1000000:\n",
    "    print(square_it)\n",
    "    square_it *= 2"
   ]
  },
  {
   "cell_type": "code",
   "execution_count": 8,
   "metadata": {},
   "outputs": [
    {
     "name": "stdout",
     "output_type": "stream",
     "text": [
      "100\n",
      "95\n",
      "90\n",
      "85\n",
      "80\n",
      "75\n",
      "70\n",
      "65\n",
      "60\n",
      "55\n",
      "50\n",
      "45\n",
      "40\n",
      "35\n",
      "30\n",
      "25\n",
      "20\n",
      "15\n",
      "10\n",
      "5\n"
     ]
    }
   ],
   "source": [
    "## 2 - 5\n",
    "minus_five = 100\n",
    "while minus_five >= 5:\n",
    "    print(minus_five)\n",
    "    minus_five -= 5"
   ]
  },
  {
   "cell_type": "code",
   "execution_count": 9,
   "metadata": {},
   "outputs": [
    {
     "name": "stdout",
     "output_type": "stream",
     "text": [
      "7 x 1 = 7\n",
      "7 x 2 = 14\n",
      "7 x 3 = 21\n",
      "7 x 4 = 28\n",
      "7 x 5 = 35\n",
      "7 x 6 = 42\n",
      "7 x 7 = 49\n",
      "7 x 8 = 56\n",
      "7 x 9 = 63\n",
      "7 x 10 = 70\n"
     ]
    }
   ],
   "source": [
    "## 2 - 6\n",
    "num = 7\n",
    "for i in range(1, 11):\n",
    "   print(num, 'x', i, '=', num*i)"
   ]
  },
  {
   "cell_type": "code",
   "execution_count": 10,
   "metadata": {},
   "outputs": [
    {
     "name": "stdout",
     "output_type": "stream",
     "text": [
      "\n",
      "1\n",
      "22\n",
      "333\n",
      "4444\n",
      "55555\n",
      "666666\n",
      "7777777\n",
      "88888888\n",
      "999999999\n"
     ]
    }
   ],
   "source": [
    "## 2 - 7\n",
    "for i in range(10):\n",
    "    print(str(i) * i)"
   ]
  },
  {
   "cell_type": "code",
   "execution_count": 11,
   "metadata": {},
   "outputs": [
    {
     "name": "stdout",
     "output_type": "stream",
     "text": [
      "Number to skip is: 27\n",
      "Here is an odd number:\n",
      "1\n",
      "Here is an odd number:\n",
      "3\n",
      "Here is an odd number:\n",
      "5\n",
      "Here is an odd number:\n",
      "7\n",
      "Here is an odd number:\n",
      "9\n",
      "Here is an odd number:\n",
      "11\n",
      "Here is an odd number:\n",
      "13\n",
      "Here is an odd number:\n",
      "15\n",
      "Here is an odd number:\n",
      "17\n",
      "Here is an odd number:\n",
      "19\n",
      "Here is an odd number:\n",
      "21\n",
      "Here is an odd number:\n",
      "23\n",
      "Here is an odd number:\n",
      "25\n",
      "Here is an odd number:\n",
      "Yikes! Skipping number: 27\n",
      "Here is an odd number:\n",
      "29\n",
      "Here is an odd number:\n",
      "31\n",
      "Here is an odd number:\n",
      "33\n",
      "Here is an odd number:\n",
      "35\n",
      "Here is an odd number:\n",
      "37\n",
      "Here is an odd number:\n",
      "39\n",
      "Here is an odd number:\n",
      "41\n",
      "Here is an odd number:\n",
      "43\n",
      "Here is an odd number:\n",
      "45\n",
      "Here is an odd number:\n",
      "47\n",
      "Here is an odd number:\n",
      "49\n"
     ]
    }
   ],
   "source": [
    "## 2 - 8\n",
    "skip = int(input(\"Number to skip is: \"))\n",
    "for i in range(50):\n",
    "    if i % 2 != 0:\n",
    "        print(\"Here is an odd number:\")\n",
    "        if i == skip:\n",
    "            print(\"Yikes! Skipping number:\", skip)\n",
    "            continue\n",
    "        print(i)"
   ]
  },
  {
   "cell_type": "code",
   "execution_count": 12,
   "metadata": {},
   "outputs": [
    {
     "name": "stdout",
     "output_type": "stream",
     "text": [
      "Pick a number: 10\n",
      "0\n",
      "1\n",
      "2\n",
      "3\n",
      "4\n",
      "5\n",
      "6\n",
      "7\n",
      "8\n",
      "9\n",
      "Your number is 10\n"
     ]
    }
   ],
   "source": [
    "## 2 - 9\n",
    "to_this_number = int(input(\"Pick a number: \"))\n",
    "for i in range(1000000):\n",
    "    if i == to_this_number:\n",
    "        print(\"Your number is\", to_this_number)\n",
    "        break\n",
    "    print(i)\n"
   ]
  },
  {
   "cell_type": "code",
   "execution_count": 13,
   "metadata": {},
   "outputs": [
    {
     "name": "stdout",
     "output_type": "stream",
     "text": [
      "Countdown in...5\n",
      "5\n",
      "4\n",
      "3\n",
      "2\n",
      "1\n",
      "Blast Off!!!\n"
     ]
    }
   ],
   "source": [
    "## 2 - 10\n",
    "countdown = int(input(\"Countdown in...\"))\n",
    "while countdown >= 1:\n",
    "    print(countdown)\n",
    "    countdown -= 1\n",
    "print(\"Blast Off!!!\")"
   ]
  },
  {
   "cell_type": "code",
   "execution_count": 14,
   "metadata": {},
   "outputs": [
    {
     "name": "stdout",
     "output_type": "stream",
     "text": [
      "fizzbuzz\n",
      "1\n",
      "2\n",
      "fizz\n",
      "4\n",
      "buzz\n",
      "fizz\n",
      "7\n",
      "8\n",
      "fizz\n",
      "buzz\n",
      "11\n",
      "fizz\n",
      "13\n",
      "14\n",
      "fizzbuzz\n",
      "16\n",
      "17\n",
      "fizz\n",
      "19\n",
      "buzz\n",
      "fizz\n",
      "22\n",
      "23\n",
      "fizz\n",
      "buzz\n",
      "26\n",
      "fizz\n",
      "28\n",
      "29\n",
      "fizzbuzz\n",
      "31\n",
      "32\n",
      "fizz\n",
      "34\n",
      "buzz\n",
      "fizz\n",
      "37\n",
      "38\n",
      "fizz\n",
      "buzz\n",
      "41\n",
      "fizz\n",
      "43\n",
      "44\n",
      "fizzbuzz\n",
      "46\n",
      "47\n",
      "fizz\n",
      "49\n",
      "buzz\n",
      "fizz\n",
      "52\n",
      "53\n",
      "fizz\n",
      "buzz\n",
      "56\n",
      "fizz\n",
      "58\n",
      "59\n",
      "fizzbuzz\n",
      "61\n",
      "62\n",
      "fizz\n",
      "64\n",
      "buzz\n",
      "fizz\n",
      "67\n",
      "68\n",
      "fizz\n",
      "buzz\n",
      "71\n",
      "fizz\n",
      "73\n",
      "74\n",
      "fizzbuzz\n",
      "76\n",
      "77\n",
      "fizz\n",
      "79\n",
      "buzz\n",
      "fizz\n",
      "82\n",
      "83\n",
      "fizz\n",
      "buzz\n",
      "86\n",
      "fizz\n",
      "88\n",
      "89\n",
      "fizzbuzz\n",
      "91\n",
      "92\n",
      "fizz\n",
      "94\n",
      "buzz\n",
      "fizz\n",
      "97\n",
      "98\n",
      "fizz\n",
      "buzz\n"
     ]
    }
   ],
   "source": [
    "## 3\n",
    "for fizzbuzz in range(101):\n",
    "    if fizzbuzz % 3 == 0 and fizzbuzz % 5 == 0:\n",
    "        print(\"fizzbuzz\")\n",
    "        continue\n",
    "    elif fizzbuzz % 3 == 0:\n",
    "        print(\"fizz\")\n",
    "        continue\n",
    "    elif fizzbuzz % 5 == 0:\n",
    "        print(\"buzz\")\n",
    "        continue\n",
    "    print(fizzbuzz)"
   ]
  },
  {
   "cell_type": "code",
   "execution_count": 15,
   "metadata": {},
   "outputs": [
    {
     "name": "stdout",
     "output_type": "stream",
     "text": [
      "What number would you like to go up to? 5\n",
      "Are you sure? y\n",
      "numbers:  [1, 2, 3, 4, 5]\n",
      "squares:  [1, 4, 9, 16, 25]\n",
      "cubes  :  [1, 8, 27, 64, 125]\n"
     ]
    }
   ],
   "source": [
    "## 4\n",
    "numbers = []\n",
    "squares = []\n",
    "cubes = []\n",
    "\n",
    "start = 1 \n",
    "end = int(input(\"What number would you like to go up to? \"))\n",
    "to_continue = input(\"Are you sure? \")\n",
    "while to_continue == \"yes\" or \"y\":\n",
    "    break\n",
    "    \n",
    "    print(\"Here is your table!\")\n",
    "\n",
    "for count in range (start, end+1) :\n",
    "    numbers.append (count)\n",
    "    squares.append (count**2)\n",
    "    cubes.append (count**3)\n",
    "    \n",
    "print(\"numbers: \",numbers)\n",
    "print (\"squares: \",squares)\n",
    "print (\"cubes  : \",cubes)"
   ]
  },
  {
   "cell_type": "code",
   "execution_count": 16,
   "metadata": {},
   "outputs": [
    {
     "name": "stdout",
     "output_type": "stream",
     "text": [
      "What is your grade? 80\n",
      "Do you want to continue? y\n",
      "B\n"
     ]
    }
   ],
   "source": [
    "## 5\n",
    "grade = int(input(\"What is your grade? \"))\n",
    "verify = input(\"Do you want to continue? \")\n",
    "def lettergrade(grade):\n",
    "    if grade >=90:\n",
    "        return('A')\n",
    "    elif grade >=80 and grade <=89:\n",
    "        return('B')\n",
    "    elif grade >=70 and grade <=79:\n",
    "        return('C')\n",
    "    elif grade >=60 and grade <=69:\n",
    "        return('D')\n",
    "    else:\n",
    "        return('F')\n",
    "print(lettergrade(grade))"
   ]
  },
  {
   "cell_type": "code",
   "execution_count": null,
   "metadata": {},
   "outputs": [],
   "source": [
    "## 6\n",
    "books = {'title': ['Percy Jackson & the Olympians: The Lightning Thief', 'The Outsiders', 'Rumble Fish', 'Harry Potter and The Sorcer\\'s Stone', 'Star Wars\\: The Old Republic - Revan'] , \n",
    "                  'author': ['Rick Riordan', 'S.E. Hinton', 'S.E. Hinton', 'J.K. Rowling', 'Drew Karpyshyn '], \n",
    "                  'genre': ['Fantasy','Fiction','Fiction', 'Fantasy', 'Sci-Fi']}\n",
    "\n",
    "## I really struggled with this problem and could not figure it out no matter what ways I tried. \n",
    "## Dictrionaries are a subject I'm working on to get a hang of because it's not my strong suit at all."
   ]
  },
  {
   "cell_type": "code",
   "execution_count": null,
   "metadata": {},
   "outputs": [],
   "source": []
  }
 ],
 "metadata": {
  "kernelspec": {
   "display_name": "Python 3",
   "language": "python",
   "name": "python3"
  },
  "language_info": {
   "codemirror_mode": {
    "name": "ipython",
    "version": 3
   },
   "file_extension": ".py",
   "mimetype": "text/x-python",
   "name": "python",
   "nbconvert_exporter": "python",
   "pygments_lexer": "ipython3",
   "version": "3.8.5"
  }
 },
 "nbformat": 4,
 "nbformat_minor": 4
}
