{
 "cells": [
  {
   "cell_type": "code",
   "execution_count": 1,
   "metadata": {},
   "outputs": [
    {
     "data": {
      "text/plain": [
       "True"
      ]
     },
     "execution_count": 1,
     "metadata": {},
     "output_type": "execute_result"
    }
   ],
   "source": [
    "## 1\n",
    "def is_two(num):\n",
    "    if num == (2 or str(2)):\n",
    "        return True\n",
    "    else:\n",
    "        return False\n",
    "is_two(2)"
   ]
  },
  {
   "cell_type": "code",
   "execution_count": 2,
   "metadata": {},
   "outputs": [
    {
     "data": {
      "text/plain": [
       "True"
      ]
     },
     "execution_count": 2,
     "metadata": {},
     "output_type": "execute_result"
    }
   ],
   "source": [
    "## 2\n",
    "def is_vowel(char):\n",
    "    all_vowels = 'aeiou'\n",
    "    return char.lower() in all_vowels\n",
    "is_vowel('A')"
   ]
  },
  {
   "cell_type": "code",
   "execution_count": 3,
   "metadata": {},
   "outputs": [
    {
     "data": {
      "text/plain": [
       "True"
      ]
     },
     "execution_count": 3,
     "metadata": {},
     "output_type": "execute_result"
    }
   ],
   "source": [
    "## 3\n",
    "def is_consonant(char):\n",
    "    all_consonants = 'bcdfghjklmnpqrstvwxyz'\n",
    "    return char.lower() in all_consonants\n",
    "is_consonant('S')"
   ]
  },
  {
   "cell_type": "code",
   "execution_count": 7,
   "metadata": {},
   "outputs": [
    {
     "data": {
      "text/plain": [
       "'Tom'"
      ]
     },
     "execution_count": 7,
     "metadata": {},
     "output_type": "execute_result"
    }
   ],
   "source": [
    "## 4\n",
    "def capital_consonant(word):\n",
    "    all_vowels = 'aeiouAEIOU'\n",
    "    if word[0] not in all_vowels:\n",
    "        return word.capitalize()\n",
    "    else:\n",
    "        return word\n",
    "capital_consonant('tom')"
   ]
  },
  {
   "cell_type": "code",
   "execution_count": 156,
   "metadata": {},
   "outputs": [
    {
     "data": {
      "text/plain": [
       "5.0"
      ]
     },
     "execution_count": 156,
     "metadata": {},
     "output_type": "execute_result"
    }
   ],
   "source": [
    "## 5\n",
    "def calculate_tip(bill, percent):\n",
    "    tip = bill * percent\n",
    "    if percent > 1:\n",
    "        print(\"Sorry! It needs to be in decimal form\")\n",
    "    elif percent <= 0:\n",
    "        print(\"Don\\'t be a jerk....'\")\n",
    "    else:\n",
    "        return tip\n",
    "calculate_tip(20, .25)"
   ]
  },
  {
   "cell_type": "code",
   "execution_count": null,
   "metadata": {},
   "outputs": [],
   "source": [
    "## 6\n",
    "def apply_discount(price, discount):\n",
    "    total = price * (1 - discount)\n",
    "    if discount > 1:\n",
    "        print(\"Sorry it needs to be in decimal form\")\n",
    "    elif discount <= 0:\n",
    "        print(\"Can\\'t have a negative coupon :D'\")\n",
    "    else:\n",
    "        return total\n",
    "apply_discount(50, .20)"
   ]
  },
  {
   "cell_type": "code",
   "execution_count": 213,
   "metadata": {},
   "outputs": [
    {
     "data": {
      "text/plain": [
       "1000"
      ]
     },
     "execution_count": 213,
     "metadata": {},
     "output_type": "execute_result"
    }
   ],
   "source": [
    "## 7\n",
    "def handle_commas(number):\n",
    "    return int(number.replace(',', ''))\n",
    "handle_commas('1,000')"
   ]
  },
  {
   "cell_type": "code",
   "execution_count": 222,
   "metadata": {},
   "outputs": [
    {
     "data": {
      "text/plain": [
       "'A'"
      ]
     },
     "execution_count": 222,
     "metadata": {},
     "output_type": "execute_result"
    }
   ],
   "source": [
    "## 8\n",
    "def get_letter_grade(grade):\n",
    "    if grade <= 100 and grade >= 90:\n",
    "        return \"A\"\n",
    "    elif grade < 89 and grade >= 80:\n",
    "        return \"B\"\n",
    "    elif grade < 79 and grade >= 70:\n",
    "        return \"C\"\n",
    "    elif grade < 69 and grade >= 60:\n",
    "        return \"D\"\n",
    "    else:\n",
    "        return \"F\"\n",
    "get_letter_grade(90)"
   ]
  },
  {
   "cell_type": "code",
   "execution_count": 243,
   "metadata": {},
   "outputs": [
    {
     "data": {
      "text/plain": [
       "'Thr r n vwls hr'"
      ]
     },
     "execution_count": 243,
     "metadata": {},
     "output_type": "execute_result"
    }
   ],
   "source": [
    "## 9\n",
    "def remove_vowels(no_vowels):\n",
    "    newstr = no_vowels\n",
    "    vowels = 'aeiouAEIOU'\n",
    "    for vowel in no_vowels:\n",
    "        if vowel in vowels:\n",
    "            newstr = newstr.replace(vowel,\"\")\n",
    "\n",
    "    return newstr\n",
    "remove_vowels(\"There are no vowels here\")"
   ]
  },
  {
   "cell_type": "code",
   "execution_count": 1,
   "metadata": {},
   "outputs": [
    {
     "data": {
      "text/plain": [
       "'_today_is_'"
      ]
     },
     "execution_count": 1,
     "metadata": {},
     "output_type": "execute_result"
    }
   ],
   "source": [
    "## 10\n",
    "def normalize_name(any_string):\n",
    "    newstr = any_string.lower()\n",
    "    space = ' '\n",
    "    char = '!@#$%^&*'\n",
    "    for string in any_string:\n",
    "        if string in space:\n",
    "            newstr = newstr.replace(space, \"_\")\n",
    "    for string in any_string:\n",
    "        if string in char:\n",
    "            newstr = newstr.replace(string, \"\")\n",
    "    return newstr\n",
    "normalize_name(\"%% today is !!\")"
   ]
  },
  {
   "cell_type": "code",
   "execution_count": 312,
   "metadata": {},
   "outputs": [
    {
     "data": {
      "text/plain": [
       "[1, 3, 6, 10]"
      ]
     },
     "execution_count": 312,
     "metadata": {},
     "output_type": "execute_result"
    }
   ],
   "source": [
    "## 11\n",
    "def cumulative_sum(nums_list):\n",
    "    return [sum(nums_list[:i+1]) for i in range(len(nums_list))]\n",
    "cumulative_sum([1, 2, 3, 4])"
   ]
  },
  {
   "cell_type": "code",
   "execution_count": 343,
   "metadata": {},
   "outputs": [
    {
     "data": {
      "text/plain": [
       "'22:00'"
      ]
     },
     "execution_count": 343,
     "metadata": {},
     "output_type": "execute_result"
    }
   ],
   "source": [
    "## Bonus - 1\n",
    "def twelveto24(std_time): \n",
    "    if std_time[-2:] == \"AM\" and std_time[:2] == \"12\": \n",
    "        return \"00\" + std_time[2:-2] \n",
    "             \n",
    "    elif std_time[-2:] == \"AM\": \n",
    "        return std_time[:-2] \n",
    "      \n",
    "   \n",
    "    elif std_time[-2:] == \"PM\" and std_time[:2] == \"12\": \n",
    "        return std_time[:-2] \n",
    "          \n",
    "    else: \n",
    "          \n",
    "        return str(int(std_time[:2]) + 12) + std_time[2:5] \n",
    "  \n",
    "twelveto24(\"10:00pm\")"
   ]
  },
  {
   "cell_type": "code",
   "execution_count": null,
   "metadata": {},
   "outputs": [],
   "source": []
  }
 ],
 "metadata": {
  "kernelspec": {
   "display_name": "Python 3",
   "language": "python",
   "name": "python3"
  },
  "language_info": {
   "codemirror_mode": {
    "name": "ipython",
    "version": 3
   },
   "file_extension": ".py",
   "mimetype": "text/x-python",
   "name": "python",
   "nbconvert_exporter": "python",
   "pygments_lexer": "ipython3",
   "version": "3.8.5"
  }
 },
 "nbformat": 4,
 "nbformat_minor": 4
}
